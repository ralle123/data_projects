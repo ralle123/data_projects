{
 "cells": [
  {
   "cell_type": "code",
   "execution_count": 1,
   "metadata": {},
   "outputs": [],
   "source": [
    "#import numpy as np\n",
    "import pandas as pd\n",
    "title = [\"name\",\"landmass\",\"zone\",\"area\",\"population\",\"language\",\"religion\",\"bars\",\"stripes\",\"colours\",\"red\",\"green\",\"blue\",\"gold\",\"white\",\"black\",\"orange\",\"mainhue\",\"circles\",\"crosses\",\\\n",
    "         \"saltires\",\"quarters\",\"sunstars\",\"crescent\",\"triangle\",\"icon\",\"animate\",\"text\",\"topleft\",\"botright\"]\n",
    "data = pd.read_csv(\"flag.data\",skiprows=1,names=title, header=None)"
   ]
  },
  {
   "cell_type": "code",
   "execution_count": 2,
   "metadata": {},
   "outputs": [
    {
     "name": "stdout",
     "output_type": "stream",
     "text": [
      "root\n",
      " |-- name: string (nullable = true)\n",
      " |-- landmass: long (nullable = true)\n",
      " |-- zone: long (nullable = true)\n",
      " |-- area: long (nullable = true)\n",
      " |-- population: long (nullable = true)\n",
      " |-- language: long (nullable = true)\n",
      " |-- religion: long (nullable = true)\n",
      " |-- bars: long (nullable = true)\n",
      " |-- stripes: long (nullable = true)\n",
      " |-- colours: long (nullable = true)\n",
      " |-- red: long (nullable = true)\n",
      " |-- green: long (nullable = true)\n",
      " |-- blue: long (nullable = true)\n",
      " |-- gold: long (nullable = true)\n",
      " |-- white: long (nullable = true)\n",
      " |-- black: long (nullable = true)\n",
      " |-- orange: long (nullable = true)\n",
      " |-- mainhue: string (nullable = true)\n",
      " |-- circles: long (nullable = true)\n",
      " |-- crosses: long (nullable = true)\n",
      " |-- saltires: long (nullable = true)\n",
      " |-- quarters: long (nullable = true)\n",
      " |-- sunstars: long (nullable = true)\n",
      " |-- crescent: long (nullable = true)\n",
      " |-- triangle: long (nullable = true)\n",
      " |-- icon: long (nullable = true)\n",
      " |-- animate: long (nullable = true)\n",
      " |-- text: long (nullable = true)\n",
      " |-- topleft: string (nullable = true)\n",
      " |-- botright: string (nullable = true)\n",
      "\n",
      "+---------------+--------+----+----+----------+--------+--------+----+-------+-------+---+-----+----+----+-----+-----+------+-------+-------+-------+--------+--------+--------+--------+--------+----+-------+----+-------+--------+\n",
      "|           name|landmass|zone|area|population|language|religion|bars|stripes|colours|red|green|blue|gold|white|black|orange|mainhue|circles|crosses|saltires|quarters|sunstars|crescent|triangle|icon|animate|text|topleft|botright|\n",
      "+---------------+--------+----+----+----------+--------+--------+----+-------+-------+---+-----+----+----+-----+-----+------+-------+-------+-------+--------+--------+--------+--------+--------+----+-------+----+-------+--------+\n",
      "|        Albania|       3|   1|  29|         3|       6|       6|   0|      0|      3|  1|    0|   0|   1|    0|    1|     0|    red|      0|      0|       0|       0|       1|       0|       0|   0|      1|   0|    red|     red|\n",
      "|        Algeria|       4|   1|2388|        20|       8|       2|   2|      0|      3|  1|    1|   0|   0|    1|    0|     0|  green|      0|      0|       0|       0|       1|       1|       0|   0|      0|   0|  green|   white|\n",
      "| American-Samoa|       6|   3|   0|         0|       1|       1|   0|      0|      5|  1|    0|   1|   1|    1|    0|     1|   blue|      0|      0|       0|       0|       0|       0|       1|   1|      1|   0|   blue|     red|\n",
      "|        Andorra|       3|   1|   0|         0|       6|       0|   3|      0|      3|  1|    0|   1|   1|    0|    0|     0|   gold|      0|      0|       0|       0|       0|       0|       0|   0|      0|   0|   blue|     red|\n",
      "|         Angola|       4|   2|1247|         7|      10|       5|   0|      2|      3|  1|    0|   0|   1|    0|    1|     0|    red|      0|      0|       0|       0|       1|       0|       0|   1|      0|   0|    red|   black|\n",
      "|       Anguilla|       1|   4|   0|         0|       1|       1|   0|      1|      3|  0|    0|   1|   0|    1|    0|     1|  white|      0|      0|       0|       0|       0|       0|       0|   0|      1|   0|  white|    blue|\n",
      "|Antigua-Barbuda|       1|   4|   0|         0|       1|       1|   0|      1|      5|  1|    0|   1|   1|    1|    1|     0|    red|      0|      0|       0|       0|       1|       0|       1|   0|      0|   0|  black|     red|\n",
      "|      Argentina|       2|   3|2777|        28|       2|       0|   0|      3|      2|  0|    0|   1|   0|    1|    0|     0|   blue|      0|      0|       0|       0|       0|       0|       0|   0|      0|   0|   blue|    blue|\n",
      "|      Argentine|       2|   3|2777|        28|       2|       0|   0|      3|      3|  0|    0|   1|   1|    1|    0|     0|   blue|      0|      0|       0|       0|       1|       0|       0|   0|      0|   0|   blue|    blue|\n",
      "|      Australia|       6|   2|7690|        15|       1|       1|   0|      0|      3|  1|    0|   1|   0|    1|    0|     0|   blue|      0|      1|       1|       1|       6|       0|       0|   0|      0|   0|  white|    blue|\n",
      "|        Austria|       3|   1|  84|         8|       4|       0|   0|      3|      2|  1|    0|   0|   0|    1|    0|     0|    red|      0|      0|       0|       0|       0|       0|       0|   0|      0|   0|    red|     red|\n",
      "|        Bahamas|       1|   4|  19|         0|       1|       1|   0|      3|      3|  0|    0|   1|   1|    0|    1|     0|   blue|      0|      0|       0|       0|       0|       0|       1|   0|      0|   0|   blue|    blue|\n",
      "|        Bahrain|       5|   1|   1|         0|       8|       2|   0|      0|      2|  1|    0|   0|   0|    1|    0|     0|    red|      0|      0|       0|       0|       0|       0|       0|   0|      0|   0|  white|     red|\n",
      "|     Bangladesh|       5|   1| 143|        90|       6|       2|   0|      0|      2|  1|    1|   0|   0|    0|    0|     0|  green|      1|      0|       0|       0|       0|       0|       0|   0|      0|   0|  green|   green|\n",
      "|       Barbados|       1|   4|   0|         0|       1|       1|   3|      0|      3|  0|    0|   1|   1|    0|    1|     0|   blue|      0|      0|       0|       0|       0|       0|       0|   1|      0|   0|   blue|    blue|\n",
      "|        Belgium|       3|   1|  31|        10|       6|       0|   3|      0|      3|  1|    0|   0|   1|    0|    1|     0|   gold|      0|      0|       0|       0|       0|       0|       0|   0|      0|   0|  black|     red|\n",
      "|         Belize|       1|   4|  23|         0|       1|       1|   0|      2|      8|  1|    1|   1|   1|    1|    1|     1|   blue|      1|      0|       0|       0|       0|       0|       0|   1|      1|   1|    red|     red|\n",
      "|          Benin|       4|   1| 113|         3|       3|       5|   0|      0|      2|  1|    1|   0|   0|    0|    0|     0|  green|      0|      0|       0|       0|       1|       0|       0|   0|      0|   0|  green|   green|\n",
      "|        Bermuda|       1|   4|   0|         0|       1|       1|   0|      0|      6|  1|    1|   1|   1|    1|    1|     0|    red|      1|      1|       1|       1|       0|       0|       0|   1|      1|   0|  white|     red|\n",
      "|         Bhutan|       5|   1|  47|         1|      10|       3|   0|      0|      4|  1|    0|   0|   0|    1|    1|     1| orange|      4|      0|       0|       0|       0|       0|       0|   0|      1|   0| orange|     red|\n",
      "+---------------+--------+----+----+----------+--------+--------+----+-------+-------+---+-----+----+----+-----+-----+------+-------+-------+-------+--------+--------+--------+--------+--------+----+-------+----+-------+--------+\n",
      "only showing top 20 rows\n",
      "\n"
     ]
    }
   ],
   "source": [
    "# setup pyspark\n",
    "import os\n",
    "from pyspark import SparkContext, SparkConf, SQLContext\n",
    "from pyspark.sql import SparkSession\n",
    "from pyspark.sql.functions import col, asc\n",
    "\n",
    "conf = (\n",
    "    SparkConf()\n",
    "    .setAppName('Spark Demo!')\n",
    ")\n",
    "\n",
    "conf.set(\"spark.hadoop.fs.s3a.endpoint\", os.getenv('STORAGE_URL')) \\\n",
    "    .set('fs.s3a.aws.credentials.provider', 'org.apache.hadoop.fs.s3a.TemporaryAWSCredentialsProvider') \\\n",
    "    .set('fs.s3a.access.key', f'{STS_ACCESSKEY}') \\\n",
    "    .set('fs.s3a.secret.key', f'{STS_SECRETKEY}') \\\n",
    "    .set('fs.s3a.session.token', f'{STS_SESSIONTOKEN}') \\\n",
    "    .set(\"spark.hadoop.fs.s3a.fast.upload\", True) \\\n",
    "    .set(\"spark.hadoop.fs.s3a.path.style.access\", True) \\\n",
    "    .set(\"spark.hadoop.fs.s3a.impl\", \"org.apache.hadoop.fs.s3a.S3AFileSystem\") \\\n",
    "    .set(\"spark.hadoop.fs.s3a.multipart.size\", \"128M\") \\\n",
    "    .set(\"spark.hadoop.fs.s3a.fast.upload.active.blocks\", 8) \\\n",
    "    .set(\"spark.jars\", \"/home/jovyan/work/jars/hadoop-aws-3.2.0.jar,/home/jovyan/work/jars/aws-java-sdk-bundle-1.11.908.jar\")\n",
    "\n",
    "sc = SparkContext.getOrCreate(conf=conf)\n",
    "spark = SparkSession(sc)\n",
    "\n",
    "##======================================================\n",
    "#from pyspark.sql import SparkSession\n",
    "#Create PySpark SparkSession\n",
    "#spark = SparkSession.builder.getOrCreate()\n",
    "#Create PySpark DataFrame from Pandas\n",
    "sparkDF=spark.createDataFrame(data) \n",
    "sparkDF.printSchema()\n",
    "sparkDF.show()"
   ]
  },
  {
   "cell_type": "code",
   "execution_count": 3,
   "metadata": {},
   "outputs": [
    {
     "name": "stdout",
     "output_type": "stream",
     "text": [
      "(193, 30)\n"
     ]
    }
   ],
   "source": [
    "print((sparkDF.count(), len(sparkDF.columns)))"
   ]
  },
  {
   "cell_type": "code",
   "execution_count": 4,
   "metadata": {},
   "outputs": [],
   "source": [
    "#data.write.parquet(\" 's3a://abcd/int/test/car_data.parquet\")\n",
    "path = \"s3a://abcd/int/data/flag.parquet\"\n",
    "# df.write.parquet(path,mode=\"overwrite\")\n",
    "# reduce amount of partitions .coalesce(1)\n",
    "sparkDF.write.parquet(path,mode=\"overwrite\")"
   ]
  },
  {
   "cell_type": "code",
   "execution_count": 5,
   "metadata": {},
   "outputs": [
    {
     "name": "stdout",
     "output_type": "stream",
     "text": [
      "+---------------+--------+----+----+----------+--------+--------+----+-------+-------+---+-----+----+----+-----+-----+------+-------+-------+-------+--------+--------+--------+--------+--------+----+-------+----+-------+--------+\n",
      "|           name|landmass|zone|area|population|language|religion|bars|stripes|colours|red|green|blue|gold|white|black|orange|mainhue|circles|crosses|saltires|quarters|sunstars|crescent|triangle|icon|animate|text|topleft|botright|\n",
      "+---------------+--------+----+----+----------+--------+--------+----+-------+-------+---+-----+----+----+-----+-----+------+-------+-------+-------+--------+--------+--------+--------+--------+----+-------+----+-------+--------+\n",
      "|        Albania|       3|   1|  29|         3|       6|       6|   0|      0|      3|  1|    0|   0|   1|    0|    1|     0|    red|      0|      0|       0|       0|       1|       0|       0|   0|      1|   0|    red|     red|\n",
      "|        Algeria|       4|   1|2388|        20|       8|       2|   2|      0|      3|  1|    1|   0|   0|    1|    0|     0|  green|      0|      0|       0|       0|       1|       1|       0|   0|      0|   0|  green|   white|\n",
      "| American-Samoa|       6|   3|   0|         0|       1|       1|   0|      0|      5|  1|    0|   1|   1|    1|    0|     1|   blue|      0|      0|       0|       0|       0|       0|       1|   1|      1|   0|   blue|     red|\n",
      "|        Andorra|       3|   1|   0|         0|       6|       0|   3|      0|      3|  1|    0|   1|   1|    0|    0|     0|   gold|      0|      0|       0|       0|       0|       0|       0|   0|      0|   0|   blue|     red|\n",
      "|         Angola|       4|   2|1247|         7|      10|       5|   0|      2|      3|  1|    0|   0|   1|    0|    1|     0|    red|      0|      0|       0|       0|       1|       0|       0|   1|      0|   0|    red|   black|\n",
      "|       Anguilla|       1|   4|   0|         0|       1|       1|   0|      1|      3|  0|    0|   1|   0|    1|    0|     1|  white|      0|      0|       0|       0|       0|       0|       0|   0|      1|   0|  white|    blue|\n",
      "|Antigua-Barbuda|       1|   4|   0|         0|       1|       1|   0|      1|      5|  1|    0|   1|   1|    1|    1|     0|    red|      0|      0|       0|       0|       1|       0|       1|   0|      0|   0|  black|     red|\n",
      "|      Argentina|       2|   3|2777|        28|       2|       0|   0|      3|      2|  0|    0|   1|   0|    1|    0|     0|   blue|      0|      0|       0|       0|       0|       0|       0|   0|      0|   0|   blue|    blue|\n",
      "|      Argentine|       2|   3|2777|        28|       2|       0|   0|      3|      3|  0|    0|   1|   1|    1|    0|     0|   blue|      0|      0|       0|       0|       1|       0|       0|   0|      0|   0|   blue|    blue|\n",
      "|      Australia|       6|   2|7690|        15|       1|       1|   0|      0|      3|  1|    0|   1|   0|    1|    0|     0|   blue|      0|      1|       1|       1|       6|       0|       0|   0|      0|   0|  white|    blue|\n",
      "|        Austria|       3|   1|  84|         8|       4|       0|   0|      3|      2|  1|    0|   0|   0|    1|    0|     0|    red|      0|      0|       0|       0|       0|       0|       0|   0|      0|   0|    red|     red|\n",
      "|        Bahamas|       1|   4|  19|         0|       1|       1|   0|      3|      3|  0|    0|   1|   1|    0|    1|     0|   blue|      0|      0|       0|       0|       0|       0|       1|   0|      0|   0|   blue|    blue|\n",
      "|        Bahrain|       5|   1|   1|         0|       8|       2|   0|      0|      2|  1|    0|   0|   0|    1|    0|     0|    red|      0|      0|       0|       0|       0|       0|       0|   0|      0|   0|  white|     red|\n",
      "|     Bangladesh|       5|   1| 143|        90|       6|       2|   0|      0|      2|  1|    1|   0|   0|    0|    0|     0|  green|      1|      0|       0|       0|       0|       0|       0|   0|      0|   0|  green|   green|\n",
      "|       Barbados|       1|   4|   0|         0|       1|       1|   3|      0|      3|  0|    0|   1|   1|    0|    1|     0|   blue|      0|      0|       0|       0|       0|       0|       0|   1|      0|   0|   blue|    blue|\n",
      "|        Belgium|       3|   1|  31|        10|       6|       0|   3|      0|      3|  1|    0|   0|   1|    0|    1|     0|   gold|      0|      0|       0|       0|       0|       0|       0|   0|      0|   0|  black|     red|\n",
      "|         Belize|       1|   4|  23|         0|       1|       1|   0|      2|      8|  1|    1|   1|   1|    1|    1|     1|   blue|      1|      0|       0|       0|       0|       0|       0|   1|      1|   1|    red|     red|\n",
      "|          Benin|       4|   1| 113|         3|       3|       5|   0|      0|      2|  1|    1|   0|   0|    0|    0|     0|  green|      0|      0|       0|       0|       1|       0|       0|   0|      0|   0|  green|   green|\n",
      "|        Bermuda|       1|   4|   0|         0|       1|       1|   0|      0|      6|  1|    1|   1|   1|    1|    1|     0|    red|      1|      1|       1|       1|       0|       0|       0|   1|      1|   0|  white|     red|\n",
      "|         Bhutan|       5|   1|  47|         1|      10|       3|   0|      0|      4|  1|    0|   0|   0|    1|    1|     1| orange|      4|      0|       0|       0|       0|       0|       0|   0|      1|   0| orange|     red|\n",
      "+---------------+--------+----+----+----------+--------+--------+----+-------+-------+---+-----+----+----+-----+-----+------+-------+-------+-------+--------+--------+--------+--------+--------+----+-------+----+-------+--------+\n",
      "only showing top 20 rows\n",
      "\n"
     ]
    }
   ],
   "source": [
    "sparkDF2 = spark.read.format(\"parquet\").load(\"s3a://abcd/int/data/flag.parquet\")\n",
    "sparkDF2.show()"
   ]
  }
 ],
 "metadata": {
  "kernelspec": {
   "display_name": "Python 3",
   "language": "python",
   "name": "python3"
  },
  "language_info": {
   "codemirror_mode": {
    "name": "ipython",
    "version": 3
   },
   "file_extension": ".py",
   "mimetype": "text/x-python",
   "name": "python",
   "nbconvert_exporter": "python",
   "pygments_lexer": "ipython3",
   "version": "3.8.4"
  }
 },
 "nbformat": 4,
 "nbformat_minor": 4
}
