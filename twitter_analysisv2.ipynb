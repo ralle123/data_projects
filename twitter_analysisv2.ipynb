{
 "cells": [
  {
   "cell_type": "code",
   "execution_count": 3,
   "id": "fac10ff7-6c21-4023-965a-ce2b05086a61",
   "metadata": {},
   "outputs": [],
   "source": [
    "# https://docs.tweepy.org/en/stable/index.html\n",
    "import re\n",
    "import tweepy\n",
    "from tweepy import OAuthHandler\n",
    "from textblob import TextBlob\n",
    "\n",
    "class TwitterClient(object):\n",
    "\t'''\n",
    "\tGeneric Twitter Class for sentiment analysis.\n",
    "\t'''\n",
    "\tdef __init__(self):\n",
    "\t\t'''\n",
    "\t\tClass constructor or initialization method.\n",
    "\t\t'''\n",
    "\t\t# keys and tokens from the Twitter Dev Console\n",
    "\t\tconsumer_key = 'XXXXXXXXXXXXXXXXXXXXXXXX'\n",
    "        consumer_secret = 'XXXXXXXXXXXXXXXXXXXXXXXXXXXX'\n",
    "        access_token = 'XXXXXXXXXXXXXXXXXXXXXXXXXXXX'\n",
    "        access_token_secret = 'XXXXXXXXXXXXXXXXXXXXXXXXX'\n",
    "\n",
    "\t\t# attempt authentication\n",
    "\t\ttry:\n",
    "\t\t\t# create OAuthHandler object\n",
    "\t\t\tself.auth = OAuthHandler(consumer_key, consumer_secret)\n",
    "\t\t\t# set access token and secret\n",
    "\t\t\tself.auth.set_access_token(access_token, access_token_secret)\n",
    "\t\t\t# create tweepy API object to fetch tweets\n",
    "\t\t\tself.api = tweepy.API(self.auth)\n",
    "\t\texcept:\n",
    "\t\t\tprint(\"Error: Authentication Failed\")\n",
    "\n",
    "\tdef clean_tweet(self, tweet):\n",
    "\t\t'''\n",
    "\t\tUtility function to clean tweet text by removing links, special characters\n",
    "\t\tusing simple regex statements.\n",
    "\t\t'''\n",
    "\t\treturn ' '.join(re.sub(\"(@[A-Za-z0-9]+)|([^0-9A-Za-z \\t])|(\\w+:\\/\\/\\S+)\", \" \", tweet).split())\n",
    "\n",
    "\tdef get_tweet_sentiment(self, tweet):\n",
    "\t\t'''\n",
    "\t\tUtility function to classify sentiment of passed tweet\n",
    "\t\tusing textblob's sentiment method\n",
    "\t\t'''\n",
    "\t\t# create TextBlob object of passed tweet text\n",
    "\t\tanalysis = TextBlob(self.clean_tweet(tweet))\n",
    "\t\t# set sentiment\n",
    "\t\tif analysis.sentiment.polarity > 0:\n",
    "\t\t\treturn 'positive'\n",
    "\t\telif analysis.sentiment.polarity == 0:\n",
    "\t\t\treturn 'neutral'\n",
    "\t\telse:\n",
    "\t\t\treturn 'negative'\n",
    "\n",
    "\tdef get_tweets(self, query, count = 10):\n",
    "\t\t'''\n",
    "\t\tMain function to fetch tweets and parse them.\n",
    "\t\t'''\n",
    "\t\t# empty list to store parsed tweets\n",
    "\t\ttweets = []\n",
    "\n",
    "\t\ttry:\n",
    "\t\t\t# call twitter api to fetch tweets\n",
    "\t\t\tfetched_tweets = self.api.search_tweets(q = query, count = count)\n",
    "\n",
    "\t\t\t# parsing tweets one by one\n",
    "\t\t\tfor tweet in fetched_tweets:\n",
    "\t\t\t\t# empty dictionary to store required params of a tweet\n",
    "\t\t\t\tparsed_tweet = {}\n",
    "\n",
    "\t\t\t\t# saving text of tweet\n",
    "\t\t\t\tparsed_tweet['text'] = tweet.text\n",
    "\t\t\t\t# saving sentiment of tweet\n",
    "\t\t\t\tparsed_tweet['sentiment'] = self.get_tweet_sentiment(tweet.text)\n",
    "\n",
    "\t\t\t\t# appending parsed tweet to tweets list\n",
    "\t\t\t\tif tweet.retweet_count > 0:\n",
    "\t\t\t\t\t# if tweet has retweets, ensure that it is appended only once\n",
    "\t\t\t\t\tif parsed_tweet not in tweets:\n",
    "\t\t\t\t\t\ttweets.append(parsed_tweet)\n",
    "\t\t\t\telse:\n",
    "\t\t\t\t\ttweets.append(parsed_tweet)\n",
    "\n",
    "\t\t\t# return parsed tweets\n",
    "\t\t\treturn tweets\n",
    "\t\texcept tweepy.errors.TweepyException as e:\n",
    "            \n",
    "\t\t\t# print error (if any)\n",
    "\t\t\tprint(\"Error : \" + str(e))\n",
    "\n"
   ]
  },
  {
   "cell_type": "code",
   "execution_count": 4,
   "id": "02e18e83-8327-4e87-a730-d8e63482f621",
   "metadata": {},
   "outputs": [
    {
     "name": "stdout",
     "output_type": "stream",
     "text": [
      "Positive tweets percentage: 25.53191489361702 %\n",
      "[{'text': '@stonksycollins @anonsockpuppet I checked and right before all 3 major crashes #NVDA Was pumped to ATH first then crashed 80%.', 'sentiment': 'positive'}, {'text': 'Great results . Big gap up today #NVDA #nvidia https://t.co/rl56onnMxe', 'sentiment': 'positive'}, {'text': 'Yes.. I was on that trade #NVDA , quick few Ks. I enjoy earning reports https://t.co/gHnKg9z43E', 'sentiment': 'positive'}, {'text': '#tina #spider #play #simply #marathon #alan #snake #splatoon #proud #phantom #NVDA #biden #trump #desantis https://t.co/XbrxH11YVJ', 'sentiment': 'positive'}, {'text': 'RT @VineetTandon2: Super 👍👌🥂🥂🥂\\n\\n#NVDA Mkt Cap already &gt; 700 Bn several times more than TSMC !!!', 'sentiment': 'positive'}, {'text': '#nvda forming a massive double top 👀', 'sentiment': 'positive'}, {'text': 'Why NVIDIA keeps climbing higher. The ultimate AI stock. NVDA. https://t.co/2knas1Nrjp via @YouTube #NVIDIA #NVDA #AI #AISTOCKS #stocks', 'sentiment': 'positive'}, {'text': \"NVIDIA Corp. (NVDA) Q1 2024 Earnings Call Transcript: F*ck You, We're Rich | $NVDA #NVDA #Bullish\", 'sentiment': 'positive'}, {'text': '#nvda wow!!!!!', 'sentiment': 'positive'}, {'text': \"Excited to see how $NVDA will impact the market's performance! #NVDA\\nTemu code for code\\n👉153727412👈\\nhttps://t.co/69dBuwun1n\", 'sentiment': 'positive'}, {'text': 'Tomorrow I would short $NVDA for next week...fun #spx #spy #nvda #tsla #amzn', 'sentiment': 'positive'}, {'text': '$NVDA #NVDA I stopped doing levels over $288. This AI trend is now very euphoric. 🤷🏾\\u200d♂️ will it go to $500 or what?… https://t.co/KBCyy6DMRZ', 'sentiment': 'positive'}, {'text': 'RT @techbudsolution: #nvda killing earnings causing Nasdaq to jump after market hours. This could have been over $24k gain if I was perfect…', 'sentiment': 'positive'}, {'text': 'Interesting to see 700bn mega cap jumping ~25% after hours. Previously it was crypto and now the AI hype cycle. Rem… https://t.co/DZzIWge5YE', 'sentiment': 'positive'}, {'text': '#tina #spider #play #simply #marathon #alan #snake #splatoon #proud #phantom #NVDA #biden #trump #desantis https://t.co/wYs62Kv9Dr', 'sentiment': 'positive'}, {'text': '#NVDA is benefiting from strong demand for its products, which are used in a variety of industries, including gamin… https://t.co/BDjuIjxHAj', 'sentiment': 'positive'}, {'text': '$NVDA 1D\\n\\n#Nvda stock continues to grind higher. In fact, I first thought we could see some distribution at the 1.2… https://t.co/F7wWgg4pS7', 'sentiment': 'positive'}, {'text': 'Super 👍👌🥂🥂🥂\\n\\n#NVDA Mkt Cap already &gt; 700 Bn several times more than TSMC !!! https://t.co/1XAIGWupUU', 'sentiment': 'positive'}, {'text': \"@TSDR_Trading I made a rule a few months ago that I won't gamble on earnings. More often than not, I was blowing  u… https://t.co/S7jPRVMYQT\", 'sentiment': 'positive'}, {'text': 'Nvidia shares rise massively.\\n\\nA company that had already seen some of the best gains in recent years out of any co… https://t.co/GowUh7ceI5', 'sentiment': 'positive'}, {'text': '#NVDA Only play with the amount u r willing to lose before earning day 😁 https://t.co/CupoNybwf7', 'sentiment': 'positive'}, {'text': \"It's wonderful to be caught with our pants up.🚀\\n\\n$NVDA #NVDA #QQQ #NASDAQ https://t.co/nb6xJuoJAU\", 'sentiment': 'positive'}, {'text': '@unusual_whales $NVDA 🚀 Crushing the charts! 💥 Up 15% post-earnings, 145% YTD surge, and a massive $113B market cap… https://t.co/oHLXe8CEny', 'sentiment': 'positive'}, {'text': 'Thats some good shit alerted in the premium section!! #NVDA #earnings #BingX https://t.co/KfnVIrouaM', 'sentiment': 'positive'}]\n"
     ]
    }
   ],
   "source": [
    "# creating object of TwitterClient Class\n",
    "api = TwitterClient()\n",
    "# calling function to get tweets\n",
    "tweets = api.get_tweets(query = '#nvda', count = 200)\n",
    "\n",
    "# # picking positive tweets from tweets\n",
    "ptweets = [tweet for tweet in tweets if tweet['sentiment'] == 'positive']\n",
    "# # percentage of positive tweets\n",
    "print(\"Positive tweets percentage: {} %\".format(100*len(ptweets)/len(tweets)))\n",
    "print(ptweets)\n"
   ]
  },
  {
   "cell_type": "code",
   "execution_count": 5,
   "id": "cb7416a0-dddd-4a06-be93-fe02df04e94f",
   "metadata": {},
   "outputs": [
    {
     "name": "stdout",
     "output_type": "stream",
     "text": [
      "Negative tweets percentage: 11.702127659574469 %\n",
      "[{'text': 'RT @iwaicosmo_sec: 動画をアップしました‼\\n\\n米国株ダイジェスト_5月25日配信\\u3000米国株式_主要3指数続落も、好決算でエヌビディア時間外急騰_AI関連銘柄連れ高\\n#NVDA #AI関連 #債務上限 #FOMC議事録\\n👇\\nhttps://t.co/K49ihnQ…', 'sentiment': 'negative'}, {'text': 'Earlier in february I posted #NVDA boucne followed by a sharp decline in price. It went up from 223 to 300+. Now ti… https://t.co/zpM1VIzr5K', 'sentiment': 'negative'}, {'text': \"I'm the idiot who sold $NVDA at 298 not too long ago, ouch me! made a great profit, couldn't believe it would blow… https://t.co/gBD1A363jl\", 'sentiment': 'negative'}, {'text': 'Never have I ever seen some shit like what #NVDA did today after hours.', 'sentiment': 'negative'}, {'text': '#NVDA stock is up 25% today 📈 despite the broader market being down 📉. This unusual movement is due to a number of… https://t.co/drVv0ry9OY', 'sentiment': 'negative'}, {'text': '#nvda wtf #robinhood 24 hour trading who got the new update????? #NVDA #AMC #GME https://t.co/MqHbomhX89', 'sentiment': 'negative'}, {'text': '@Mr_Derivatives #NVDA is the black hole of all liquidity', 'sentiment': 'negative'}, {'text': '#NVDA \\n\\nMay monthly close next week…\\nIf we can close the monthly below\\nprevious all time highs(ATH) we may\\nhave see… https://t.co/mmdxf5KWyK', 'sentiment': 'negative'}, {'text': 'NVDA- GPU/HBM/Optical Module,\\nWhy choosing us :\\nCompetitive Price and Shortest and Flexible Lead Time~\\nLong term St… https://t.co/pOs0VYsERs', 'sentiment': 'negative'}, {'text': '$NVDA 2-4 mins before market closed , somebody always knows 🎯 \\n\\n#NVDA #earnings https://t.co/bZ2xIb1YK4', 'sentiment': 'negative'}, {'text': 'RT @CryptoCurb: $BTC \\nvs \\n$NVDA\\n\\nEver since I have been in #crypto, #NVDA and #BTC have correlated closely with each other.\\n\\n$NVDA is often…', 'sentiment': 'negative'}]\n"
     ]
    }
   ],
   "source": [
    "# picking negative tweets from tweets\n",
    "ntweets = [tweet for tweet in tweets if tweet['sentiment'] == 'negative']\n",
    "# percentage of negative tweets\n",
    "print(\"Negative tweets percentage: {} %\".format(100*len(ntweets)/len(tweets)))\n",
    "print(ntweets)\n"
   ]
  },
  {
   "cell_type": "code",
   "execution_count": 6,
   "id": "80caf813-46f1-43a4-b001-504de6e54bd6",
   "metadata": {},
   "outputs": [
    {
     "name": "stdout",
     "output_type": "stream",
     "text": [
      "Neutral tweets percentage: 62.765957446808514 % \\ \n"
     ]
    }
   ],
   "source": [
    "# percentage of neutral tweets\n",
    "print(\"Neutral tweets percentage: {} % \\ \".format(100*(len(tweets) -(len( ntweets )+len( ptweets)))/len(tweets)))"
   ]
  },
  {
   "cell_type": "code",
   "execution_count": 7,
   "id": "9abaaa02-5f42-484f-b0a5-a102ded26274",
   "metadata": {},
   "outputs": [
    {
     "name": "stdout",
     "output_type": "stream",
     "text": [
      "\n",
      "\n",
      "Positive tweets:\n",
      "@stonksycollins @anonsockpuppet I checked and right before all 3 major crashes #NVDA Was pumped to ATH first then crashed 80%.\n",
      "Great results . Big gap up today #NVDA #nvidia https://t.co/rl56onnMxe\n",
      "Yes.. I was on that trade #NVDA , quick few Ks. I enjoy earning reports https://t.co/gHnKg9z43E\n",
      "#tina #spider #play #simply #marathon #alan #snake #splatoon #proud #phantom #NVDA #biden #trump #desantis https://t.co/XbrxH11YVJ\n",
      "RT @VineetTandon2: Super 👍👌🥂🥂🥂\n",
      "\n",
      "#NVDA Mkt Cap already &gt; 700 Bn several times more than TSMC !!!\n",
      "#nvda forming a massive double top 👀\n",
      "Why NVIDIA keeps climbing higher. The ultimate AI stock. NVDA. https://t.co/2knas1Nrjp via @YouTube #NVIDIA #NVDA #AI #AISTOCKS #stocks\n",
      "NVIDIA Corp. (NVDA) Q1 2024 Earnings Call Transcript: F*ck You, We're Rich | $NVDA #NVDA #Bullish\n",
      "#nvda wow!!!!!\n",
      "Excited to see how $NVDA will impact the market's performance! #NVDA\n",
      "Temu code for code\n",
      "👉153727412👈\n",
      "https://t.co/69dBuwun1n\n"
     ]
    }
   ],
   "source": [
    "# printing first 5 positive tweets\n",
    "print(\"\\n\\nPositive tweets:\")\n",
    "for tweet in ptweets[:10]:\n",
    "    print(tweet['text'])\n"
   ]
  },
  {
   "cell_type": "code",
   "execution_count": 8,
   "id": "6180d46b-deae-4778-8553-5b3033ba37dc",
   "metadata": {},
   "outputs": [
    {
     "name": "stdout",
     "output_type": "stream",
     "text": [
      "\n",
      "\n",
      "Negative tweets:\n",
      "RT @iwaicosmo_sec: 動画をアップしました‼\n",
      "\n",
      "米国株ダイジェスト_5月25日配信　米国株式_主要3指数続落も、好決算でエヌビディア時間外急騰_AI関連銘柄連れ高\n",
      "#NVDA #AI関連 #債務上限 #FOMC議事録\n",
      "👇\n",
      "https://t.co/K49ihnQ…\n",
      "Earlier in february I posted #NVDA boucne followed by a sharp decline in price. It went up from 223 to 300+. Now ti… https://t.co/zpM1VIzr5K\n",
      "I'm the idiot who sold $NVDA at 298 not too long ago, ouch me! made a great profit, couldn't believe it would blow… https://t.co/gBD1A363jl\n",
      "Never have I ever seen some shit like what #NVDA did today after hours.\n",
      "#NVDA stock is up 25% today 📈 despite the broader market being down 📉. This unusual movement is due to a number of… https://t.co/drVv0ry9OY\n",
      "#nvda wtf #robinhood 24 hour trading who got the new update????? #NVDA #AMC #GME https://t.co/MqHbomhX89\n",
      "@Mr_Derivatives #NVDA is the black hole of all liquidity\n",
      "#NVDA \n",
      "\n",
      "May monthly close next week…\n",
      "If we can close the monthly below\n",
      "previous all time highs(ATH) we may\n",
      "have see… https://t.co/mmdxf5KWyK\n",
      "NVDA- GPU/HBM/Optical Module,\n",
      "Why choosing us :\n",
      "Competitive Price and Shortest and Flexible Lead Time~\n",
      "Long term St… https://t.co/pOs0VYsERs\n",
      "$NVDA 2-4 mins before market closed , somebody always knows 🎯 \n",
      "\n",
      "#NVDA #earnings https://t.co/bZ2xIb1YK4\n"
     ]
    }
   ],
   "source": [
    "# printing first 5 negative tweets\n",
    "print(\"\\n\\nNegative tweets:\")\n",
    "for tweet in ntweets[:10]:\n",
    "    print(tweet['text'])"
   ]
  },
  {
   "cell_type": "code",
   "execution_count": 13,
   "id": "7e58cad5-4412-49d2-89bd-f80a66d3c153",
   "metadata": {},
   "outputs": [
    {
     "name": "stdout",
     "output_type": "stream",
     "text": [
      "Positive tweets percentage: 24.675324675324674 %\n"
     ]
    }
   ],
   "source": [
    "api = TwitterClient()\n",
    "tweets = api.get_tweets(query = '#META', count = 200)\n",
    "# # picking positive tweets from tweets\n",
    "ptweets = [tweet for tweet in tweets if tweet['sentiment'] == 'positive']\n",
    "# # percentage of positive tweets\n",
    "print(\"Positive tweets percentage: {} %\".format(100*len(ptweets)/len(tweets)))"
   ]
  },
  {
   "cell_type": "code",
   "execution_count": 14,
   "id": "608d7725-8c48-4a74-abfc-13918f752abb",
   "metadata": {},
   "outputs": [
    {
     "name": "stdout",
     "output_type": "stream",
     "text": [
      "Negative tweets percentage: 9.090909090909092 %\n"
     ]
    }
   ],
   "source": [
    "# picking negative tweets from tweets\n",
    "ntweets = [tweet for tweet in tweets if tweet['sentiment'] == 'negative']\n",
    "# percentage of negative tweets\n",
    "print(\"Negative tweets percentage: {} %\".format(100*len(ntweets)/len(tweets)))"
   ]
  },
  {
   "cell_type": "code",
   "execution_count": 15,
   "id": "0f25751f-04bb-41d7-8f97-ac0c55cb0320",
   "metadata": {},
   "outputs": [
    {
     "name": "stdout",
     "output_type": "stream",
     "text": [
      "Neutral tweets percentage: 66.23376623376623 % \\ \n"
     ]
    }
   ],
   "source": [
    "# percentage of neutral tweets\n",
    "print(\"Neutral tweets percentage: {} % \\ \".format(100*(len(tweets) -(len( ntweets )+len( ptweets)))/len(tweets)))"
   ]
  },
  {
   "cell_type": "code",
   "execution_count": 16,
   "id": "71d13ec1-5279-43f0-8161-76e16cdc1ddb",
   "metadata": {},
   "outputs": [
    {
     "name": "stdout",
     "output_type": "stream",
     "text": [
      "\n",
      "\n",
      "Positive tweets:\n",
      "RT @cybersecboardrm: Cyber security experts are spreading the word about a Facebook direct message hacking scam that is quickly spreading a…\n",
      "Mark Zuckerberg fires around 6000 more Meta employees.\n",
      "#Meta #Zuckerberg\n",
      "RT @globaltimesnews: Who is the real threat to user data privacy?🤔 #Meta #Facebook #FactsMatter https://t.co/IDU7ro1NcC\n",
      "RT @WIONews: #WorldDNA | #Meta has begun its latest layoff cycle. After laying off nearly 11,000 employees in the previous round, Meta is g…\n",
      "#WorldDNA | #Meta has begun its latest layoff cycle. After laying off nearly 11,000 employees in the previous round… https://t.co/U9H3X1i1SM\n",
      "Just 20 firms—mainly AI-related stocks—are propping up the S&amp;P 500 and driving it into positive territory, signalin… https://t.co/hCAYg56PIc\n",
      "RT @carolmswain: How many lives were lost because #Facebook censored doctors and other healthcare professionals during the #Covid19 pandemi…\n",
      "Submit your hacking question and get a really fast solution\n",
      "I am available 24 hours a day, 7 days a week.\n",
      "#hacking… https://t.co/YcY2Ow95tS\n",
      "RT @guihubdev: New locked chats in WhatsApp make your conversations more private. They're hidden in a password protected folder and notific…\n",
      "Sources: some #Meta #employees say #important #work has been stalled, #including its #product roadmap, as the… https://t.co/42LA0rudIr\n"
     ]
    }
   ],
   "source": [
    "# printing first 5 positive tweets\n",
    "print(\"\\n\\nPositive tweets:\")\n",
    "for tweet in ptweets[:10]:\n",
    "    print(tweet['text'])"
   ]
  },
  {
   "cell_type": "code",
   "execution_count": null,
   "id": "26e9b80c-dcfc-4653-bea8-bee63d6816df",
   "metadata": {},
   "outputs": [],
   "source": []
  }
 ],
 "metadata": {
  "kernelspec": {
   "display_name": "Python 3 (ipykernel)",
   "language": "python",
   "name": "python3"
  },
  "language_info": {
   "codemirror_mode": {
    "name": "ipython",
    "version": 3
   },
   "file_extension": ".py",
   "mimetype": "text/x-python",
   "name": "python",
   "nbconvert_exporter": "python",
   "pygments_lexer": "ipython3",
   "version": "3.9.16"
  }
 },
 "nbformat": 4,
 "nbformat_minor": 5
}
